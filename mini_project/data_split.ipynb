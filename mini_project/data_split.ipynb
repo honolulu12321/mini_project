{
 "cells": [
  {
   "cell_type": "markdown",
   "id": "d18cf907-acd9-44aa-9f64-3f5266221419",
   "metadata": {},
   "source": [
    "## 데이터 분할 (before_megaseoul, after_megaseoul / only 방화동 and 공항동)"
   ]
  },
  {
   "cell_type": "code",
   "execution_count": 15,
   "id": "e56cbbb3-4129-4ade-96d3-ee97a393c2bc",
   "metadata": {},
   "outputs": [],
   "source": [
    "import pandas as pd\n",
    "\n",
    "data_2023 = pd.read_csv('2024_등록_전월세_전체.csv')\n",
    "start_day = 20231002\n",
    "end_day = 20240131\n",
    "\n",
    "\n",
    "filtered_data = data_2023[(data_2023['BJDONG_NM'] == '방화동') | (data_2023['BJDONG_NM'] == '공항동')]\n",
    "filtered_data.to_csv('after_megacity(2023,2024).csv', index=False)"
   ]
  },
  {
   "cell_type": "code",
   "execution_count": 12,
   "id": "6680b5b2-ab12-44b3-b6da-a1b48b1e5c2f",
   "metadata": {},
   "outputs": [],
   "source": [
    "import pandas as pd\n",
    "\n",
    "data_2023 = pd.read_csv('2023_등록_전월세_전체.csv')\n",
    "start_day = 20230601\n",
    "end_day = 20231001\n",
    "\n",
    "\n",
    "filtered_data = data_2023[((data_2023['BJDONG_NM'] == '방화동') | (data_2023['BJDONG_NM'] == '공항동')) & ((data_2023['CNTRCT_DE'] >= start_day) & (data_2023['CNTRCT_DE'] <= end_day))]\n",
    "\n",
    "filtered_data.to_csv('before_megacity(2023).csv', index=False)\n"
   ]
  },
  {
   "cell_type": "code",
   "execution_count": 10,
   "id": "523f167f-af5b-4044-80e4-f956ec5c8497",
   "metadata": {},
   "outputs": [],
   "source": [
    "import pandas as pd\n",
    "\n",
    "data_2023 = pd.read_csv('2023_등록_전월세_전체.csv')\n",
    "start_day = 20231002\n",
    "end_day = 20231231\n",
    "\n",
    "filtered_data = data_2023[((data_2023['CNTRCT_DE'] >= start_day) & (data_2023['CNTRCT_DE'] <= end_day))]\n",
    "\n",
    "filtered_data.to_csv('after_megacity_all(2023).csv', index=False)\n"
   ]
  },
  {
   "cell_type": "markdown",
   "id": "e049eb50-563e-48ea-adea-72829d275695",
   "metadata": {},
   "source": [
    "## 데이터 분할 (before_megaseoul, after_megaseoul / 서울시 전체)"
   ]
  },
  {
   "cell_type": "code",
   "execution_count": 9,
   "id": "2b2ffb1c-1a24-4d04-9e6e-3d069dd1aee6",
   "metadata": {},
   "outputs": [],
   "source": [
    "import pandas as pd\n",
    "\n",
    "data_2023 = pd.read_csv('2023_등록_전월세_전체.csv')\n",
    "start_day = 20230601\n",
    "end_day = 20231001\n",
    "\n",
    "\n",
    "filtered_data = data_2023[((data_2023['CNTRCT_DE'] >= start_day) & (data_2023['CNTRCT_DE'] <= end_day))]\n",
    "\n",
    "filtered_data.to_csv('before_megacity_all(2023).csv', index=False)\n"
   ]
  },
  {
   "cell_type": "markdown",
   "id": "d68e41fe-fe49-47bc-bdc6-d666ccbf5ef5",
   "metadata": {},
   "source": [
    "## csv 파일 합치기"
   ]
  },
  {
   "cell_type": "code",
   "execution_count": 11,
   "id": "b5446fb9-0627-4fc5-904b-c8fc97426bf3",
   "metadata": {},
   "outputs": [],
   "source": [
    "import pandas as pd\n",
    "\n",
    "after_2023 = pd.read_csv('after_mega_seoul.csv')\n",
    "after_2023_2024 = pd.read_csv('2024_등록_전월세_전체.csv')\n",
    "\n",
    "result = pd.concat([after_2023, after_2023_2024])\n",
    "\n",
    "result.to_csv('after_mega_seoul.csv', index=False)"
   ]
  },
  {
   "cell_type": "code",
   "execution_count": 7,
   "id": "045e0740-cc5d-47c2-b1a9-0600f54a32c2",
   "metadata": {},
   "outputs": [],
   "source": [
    "import pandas as pd\n",
    "\n",
    "house = pd.read_csv('before_house.csv', encoding='euc-kr')\n",
    "multi_complex = pd.read_csv('before_multi_complex.csv', encoding='euc-kr')\n",
    "officetels = pd.read_csv('before_officetels.csv', encoding='euc-kr')\n",
    "apartment = pd.read_csv('before_apartment.csv', encoding='euc-kr')\n",
    "\n",
    "result = pd.concat([house, multi_complex, officetels, apartment])\n",
    "\n",
    "result.to_csv('befor_gimpo.csv', index=False)"
   ]
  },
  {
   "cell_type": "code",
   "execution_count": 8,
   "id": "006adb02-927c-41d0-854a-02cb6dd88214",
   "metadata": {},
   "outputs": [],
   "source": [
    "import pandas as pd\n",
    "\n",
    "house = pd.read_csv('after_house.csv', encoding='euc-kr')\n",
    "multi_complex = pd.read_csv('after_multi_complex.csv', encoding='euc-kr')\n",
    "officetels = pd.read_csv('after_officetels.csv', encoding='euc-kr')\n",
    "apartment = pd.read_csv('after_apartment.csv', encoding='euc-kr')\n",
    "\n",
    "result = pd.concat([house, multi_complex, officetels, apartment])\n",
    "\n",
    "result.to_csv('after_gimpo.csv', index=False)"
   ]
  },
  {
   "cell_type": "code",
   "execution_count": 9,
   "id": "09e43394-d75b-44b1-9fa9-1bd46fffee85",
   "metadata": {},
   "outputs": [],
   "source": [
    "import pandas as pd\n",
    "\n",
    "after_apart_gimpo = pd.read_csv('김포데이터/after_apartment.csv', encoding='euc-kr')\n",
    "before_apart_gimpo = pd.read_csv('김포데이터/before_apartment.csv', encoding='euc-kr' )\n",
    "\n",
    "result = pd.concat([after_apart_gimpo, before_apart_gimpo])\n",
    "\n",
    "result.to_csv('gimpo_apart.csv', index=False)"
   ]
  },
  {
   "cell_type": "code",
   "execution_count": 10,
   "id": "c051f8c6-f825-44eb-8409-f97389604f59",
   "metadata": {},
   "outputs": [],
   "source": [
    "import pandas as pd\n",
    "\n",
    "after_officetels_gimpo = pd.read_csv('김포데이터/after_officetels.csv', encoding='euc-kr')\n",
    "before_officetels_gimpo = pd.read_csv('김포데이터/before_officetels.csv', encoding='euc-kr' )\n",
    "\n",
    "result = pd.concat([after_officetels_gimpo, before_officetels_gimpo])\n",
    "\n",
    "result.to_csv('gimpo_officetels.csv', index=False)"
   ]
  },
  {
   "cell_type": "code",
   "execution_count": 11,
   "id": "ba31d2de-ffac-45aa-a8d6-aa3445d70448",
   "metadata": {},
   "outputs": [],
   "source": [
    "import pandas as pd\n",
    "\n",
    "after_house_gimpo = pd.read_csv('김포데이터/after_house.csv', encoding='euc-kr')\n",
    "before_house_gimpo = pd.read_csv('김포데이터/before_house.csv', encoding='euc-kr' )\n",
    "\n",
    "result = pd.concat([after_house_gimpo, before_house_gimpo])\n",
    "\n",
    "result.to_csv('gimpo_house.csv', index=False)"
   ]
  },
  {
   "cell_type": "code",
   "execution_count": 12,
   "id": "5d95d5ac-6e24-462e-9305-b6f20a371afb",
   "metadata": {},
   "outputs": [],
   "source": [
    "import pandas as pd\n",
    "\n",
    "after_multi_complex_gimpo = pd.read_csv('김포데이터/after_multi_complex.csv', encoding='euc-kr')\n",
    "before_multi_complex_gimpo = pd.read_csv('김포데이터/before_multi_complex.csv', encoding='euc-kr' )\n",
    "\n",
    "result = pd.concat([after_multi_complex_gimpo, before_multi_complex_gimpo])\n",
    "\n",
    "result.to_csv('gimpo_multi_complex.csv', index=False)"
   ]
  },
  {
   "cell_type": "code",
   "execution_count": 1,
   "id": "2fa07684-4380-4ed0-a16f-78ffeb3f310d",
   "metadata": {},
   "outputs": [],
   "source": [
    "import pandas as pd\n",
    "\n",
    "temp1 = pd.read_csv('김포데이터/gimpo_apart.csv', encoding='euc-kr')\n",
    "temp2 = pd.read_csv('김포데이터/gimpo_multi_complex.csv', encoding='euc-kr' )\n",
    "temp3 = pd.read_csv('김포데이터/gimpo_officetels.csv', encoding='euc-kr' )\n",
    "\n",
    "result = pd.concat([temp1, temp2, temp3])\n",
    "\n",
    "result.to_csv('gimpo_all2.csv', index=False)"
   ]
  }
 ],
 "metadata": {
  "kernelspec": {
   "display_name": "Python 3 (ipykernel)",
   "language": "python",
   "name": "python3"
  },
  "language_info": {
   "codemirror_mode": {
    "name": "ipython",
    "version": 3
   },
   "file_extension": ".py",
   "mimetype": "text/x-python",
   "name": "python",
   "nbconvert_exporter": "python",
   "pygments_lexer": "ipython3",
   "version": "3.12.1"
  }
 },
 "nbformat": 4,
 "nbformat_minor": 5
}
